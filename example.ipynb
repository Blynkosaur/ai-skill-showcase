{
  "nbformat": 4,
  "nbformat_minor": 0,
  "metadata": {
    "colab": {
      "provenance": [],
      "authorship_tag": "ABX9TyN2OiyQA99tmM97lO0ekTZV",
      "include_colab_link": true
    },
    "kernelspec": {
      "name": "python3",
      "display_name": "Python 3"
    },
    "language_info": {
      "name": "python"
    }
  },
  "cells": [
    {
      "cell_type": "markdown",
      "metadata": {
        "id": "view-in-github",
        "colab_type": "text"
      },
      "source": [
        "<a href=\"https://colab.research.google.com/github/jessicayuan1/ai-skill-showcase/blob/main/example.ipynb\" target=\"_parent\"><img src=\"https://colab.research.google.com/assets/colab-badge.svg\" alt=\"Open In Colab\"/></a>"
      ]
    },
    {
      "cell_type": "code",
      "execution_count": 3,
      "metadata": {
        "colab": {
          "base_uri": "https://localhost:8080/",
          "height": 324
        },
        "id": "5o3C9sB7jW7g",
        "outputId": "7f8f4151-7758-491d-aa9c-9f7dfec8f3ae"
      },
      "outputs": [
        {
          "output_type": "stream",
          "name": "stdout",
          "text": [
            "👋 Hi! This is an example notebook for the AI Skill Showcase.\n",
            "Accuracy: 0.975\n"
          ]
        },
        {
          "output_type": "display_data",
          "data": {
            "text/plain": [
              "<Figure size 600x300 with 2 Axes>"
            ],
            "image/png": "[encoded data removed]"
          },
          "metadata": {}
        },
        {
          "output_type": "stream",
          "name": "stdout",
          "text": [
            "✅ Demo complete. Now try creating your own showcase notebook!\n"
          ]
        }
      ],
      "source": [
        "\n",
        "# Example Notebook: Simple AI Showcase\n",
        "# This notebook is Colab-friendly\n",
        "\n",
        "# --- Setup ---\n",
        "import matplotlib.pyplot as plt\n",
        "import numpy as np\n",
        "from sklearn.datasets import load_digits\n",
        "from sklearn.linear_model import LogisticRegression\n",
        "from sklearn.model_selection import train_test_split\n",
        "from sklearn.metrics import accuracy_score\n",
        "\n",
        "# --- Intro ---\n",
        "print(\"👋 Hi! This is an example notebook for the AI Skill Showcase.\")\n",
        "\n",
        "# --- Step 1: Load Data ---\n",
        "digits = load_digits()\n",
        "X = digits.images  # shape (1797, 8, 8)\n",
        "y = digits.target\n",
        "\n",
        "# Flatten images for logistic regression\n",
        "X_flat = X.reshape((len(X), -1))\n",
        "\n",
        "# Train/test split\n",
        "X_train, X_test, y_train, y_test = train_test_split(X_flat, y, test_size=0.2, random_state=42)\n",
        "\n",
        "# --- Step 2: Train a simple model ---\n",
        "clf = LogisticRegression(max_iter=1000)\n",
        "clf.fit(X_train, y_train)\n",
        "\n",
        "y_pred = clf.predict(X_test)\n",
        "print(\"Accuracy:\", accuracy_score(y_test, y_pred))\n",
        "\n",
        "# --- Step 3: Show two separate outcomes ---\n",
        "fig, axes = plt.subplots(1, 2, figsize=(6, 3))\n",
        "\n",
        "# Pick two test examples\n",
        "idx1, idx2 = 0, 1\n",
        "axes[0].imshow(X_test[idx1].reshape(8, 8), cmap=\"gray\")\n",
        "axes[0].set_title(f\"True: {y_test[idx1]}, Pred: {clf.predict([X_test[idx1]])[0]}\")\n",
        "axes[0].axis(\"off\")\n",
        "\n",
        "axes[1].imshow(X_test[idx2].reshape(8, 8), cmap=\"gray\")\n",
        "axes[1].set_title(f\"True: {y_test[idx2]}, Pred: {clf.predict([X_test[idx2]])[0]}\")\n",
        "axes[1].axis(\"off\")\n",
        "\n",
        "plt.show()\n",
        "\n",
        "# --- Step 4: Wrap up ---\n",
        "print(\"✅ Demo complete. Now try creating your own showcase notebook!\")\n"
      ]
    }
  ]
}